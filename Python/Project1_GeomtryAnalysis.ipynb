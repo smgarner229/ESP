{
  "nbformat": 4,
  "nbformat_minor": 0,
  "metadata": {
    "colab": {
      "name": "Project1_GeomtryAnalysis.ipynb",
      "provenance": [],
      "collapsed_sections": [],
      "authorship_tag": "ABX9TyPFaoxHhL6I5lldk/vrQnKy",
      "include_colab_link": true
    },
    "kernelspec": {
      "name": "python3",
      "display_name": "Python 3"
    }
  },
  "cells": [
    {
      "cell_type": "markdown",
      "metadata": {
        "id": "view-in-github",
        "colab_type": "text"
      },
      "source": [
        "<a href=\"https://colab.research.google.com/github/smgarner229/ESP/blob/master/Project1_GeomtryAnalysis.ipynb\" target=\"_parent\"><img src=\"https://colab.research.google.com/assets/colab-badge.svg\" alt=\"Open In Colab\"/></a>"
      ]
    },
    {
      "cell_type": "markdown",
      "metadata": {
        "id": "YWaFphJ3YmKu",
        "colab_type": "text"
      },
      "source": [
        "#Introduction\n",
        "The notebooks contained within this folder provide a python solution to the Crawford group programming projects (or at least those I choose to complete).  The plan is to complete these in this python notebook, then translate into either a C++ solution, or more likely a Fortran solution.\n",
        "\n"
      ]
    },
    {
      "cell_type": "markdown",
      "metadata": {
        "id": "0NIFFS-ba8Qk",
        "colab_type": "text"
      },
      "source": [
        "#Project \\#1\n",
        "Geometry analysis"
      ]
    },
    {
      "cell_type": "markdown",
      "metadata": {
        "id": "XgSdB6Gudsqt",
        "colab_type": "text"
      },
      "source": [
        "## Part 1: Read the geometry\n",
        "This one is a bit silly in this python notebook, I don't want to go through the hassle of mounting and loading my drive, so I'm just copying the geometry into the notebook."
      ]
    },
    {
      "cell_type": "code",
      "metadata": {
        "id": "m4ipBNvqd5Q_",
        "colab_type": "code",
        "colab": {}
      },
      "source": [
        "full_geom=\"\"\"7\n",
        "6  0.000000000000     0.000000000000     0.000000000000\n",
        "6  0.000000000000     0.000000000000     2.845112131228\n",
        "8  1.899115961744     0.000000000000     4.139062527233\n",
        "1 -1.894048308506     0.000000000000     3.747688672216\n",
        "1  1.942500819960     0.000000000000    -0.701145981971\n",
        "1 -1.007295466862    -1.669971842687    -0.705916966833\n",
        "1 -1.007295466862     1.669971842687    -0.705916966833\n",
        "\"\"\"\n"
      ],
      "execution_count": null,
      "outputs": []
    },
    {
      "cell_type": "code",
      "metadata": {
        "id": "fYWSRbAG4KHG",
        "colab_type": "code",
        "colab": {
          "base_uri": "https://localhost:8080/",
          "height": 153
        },
        "outputId": "1b8adc6a-0fa0-464f-827c-e9edf55541da"
      },
      "source": [
        "copy_geom=full_geom\n",
        "copy_geom=copy_geom.split()\n",
        "natoms=int(copy_geom[0])\n",
        "copy_geom=copy_geom[1:]\n",
        "atoms=[]\n",
        "temp_atom=[]\n",
        "for i in range(natoms):\n",
        "  atoms.append(copy_geom[i*4:(i+1)*4])\n",
        "  for j in range(len(atoms[i])):\n",
        "    atoms[i][j]=float(atoms[i][j])\n",
        "print(\"\\033[1m{:^3s} {:^7s} {:^7s} {:^7s}\\033[0m\".format(\"Z\",\"x\",\"y\",\"z\"))\n",
        "for i in range(natoms):\n",
        "  print(\"{:^3.0f} {:^ 6.4f} {:^ 6.4f} {:^ 6.4f}\".format(atoms[i][0],atoms[i][1],atoms[i][2],atoms[i][3]))"
      ],
      "execution_count": null,
      "outputs": [
        {
          "output_type": "stream",
          "text": [
            "\u001b[1m Z     x       y       z   \u001b[0m\n",
            " 6   0.0000  0.0000  0.0000\n",
            " 6   0.0000  0.0000  2.8451\n",
            " 8   1.8991  0.0000  4.1391\n",
            " 1  -1.8940  0.0000  3.7477\n",
            " 1   1.9425  0.0000 -0.7011\n",
            " 1  -1.0073 -1.6700 -0.7059\n",
            " 1  -1.0073  1.6700 -0.7059\n"
          ],
          "name": "stdout"
        }
      ]
    },
    {
      "cell_type": "markdown",
      "metadata": {
        "id": "3QkVcyZtV8Po",
        "colab_type": "text"
      },
      "source": [
        "##Part 2: Calculate Bond Distances\n",
        "I did this by storing all the values, but perhaps what is the smarter choice is to not store the values, just calculate them on the fly.\n"
      ]
    },
    {
      "cell_type": "code",
      "metadata": {
        "id": "jeCzFeawhJzu",
        "colab_type": "code",
        "colab": {
          "base_uri": "https://localhost:8080/",
          "height": 391
        },
        "outputId": "1f21d313-4862-4b44-8be9-6fcf39444dc6"
      },
      "source": [
        "\n",
        "def distance(x1,y1,z1,x2,y2,z2):\n",
        "  return ((x1-x2)**2+(y1-y2)**2+(z1-z2)**2)**0.5\n",
        "\n",
        "print(\"\\033[1m{:^3} {:^3} {: ^8}\\033[0m\".format(\"i\",\"j\",\"distance\"))\n",
        "distance_array=[]\n",
        "for i in range(len(atoms)):\n",
        "  for j in range(i+1,len(atoms)):\n",
        "    #We calculate the bond length and store it.  It might be smarter to not\n",
        "    # store the value, rather just calculate on the fly\n",
        "    calc_distance=distance(atoms[i][1],atoms[i][2],atoms[i][3],atoms[j][1],atoms[j][2],atoms[j][3])\n",
        "    distance_array.append([i,j,calc_distance])\n",
        "    print(\"{:^3} {:^3} {: >8.4f}\".format(i,j,calc_distance))\n",
        "     "
      ],
      "execution_count": null,
      "outputs": [
        {
          "output_type": "stream",
          "text": [
            "\u001b[1m i   j  distance\u001b[0m\n",
            " 0   1    2.8451\n",
            " 0   2    4.5540\n",
            " 0   3    4.1991\n",
            " 0   4    2.0652\n",
            " 0   5    2.0741\n",
            " 0   6    2.0741\n",
            " 1   2    2.2980\n",
            " 1   3    2.0981\n",
            " 1   4    4.0434\n",
            " 1   5    4.0513\n",
            " 1   6    4.0513\n",
            " 2   3    3.8133\n",
            " 2   4    4.8404\n",
            " 2   5    5.8915\n",
            " 2   6    5.8915\n",
            " 3   4    5.8746\n",
            " 3   5    4.8384\n",
            " 3   6    4.8384\n",
            " 4   5    3.3897\n",
            " 4   6    3.3897\n",
            " 5   6    3.3399\n"
          ],
          "name": "stdout"
        }
      ]
    },
    {
      "cell_type": "markdown",
      "metadata": {
        "id": "AnAo1P_Wcdyc",
        "colab_type": "text"
      },
      "source": [
        "##Part 3: Bond Angles\n",
        "The instructions place a filter here, only calculating angles that are reasonable (ie, between close atoms), as some angles aren't all that interesting.  I'm going to calculate all of them, for loops simplicity sake."
      ]
    },
    {
      "cell_type": "code",
      "metadata": {
        "id": "i_zPC0i3o2ON",
        "colab_type": "code",
        "colab": {
          "base_uri": "https://localhost:8080/",
          "height": 153
        },
        "outputId": "f4e83d05-08f9-4d5e-9b0e-93638409e1db"
      },
      "source": [
        "# Helper functions\n",
        "def get_vector(x1,y1,z1,x2,y2,z2,normalize=True):\n",
        "  \"\"\"\n",
        "  Returns an array with xyz components pointing from \n",
        "  atom 1 to atom 2\n",
        "  \"\"\"\n",
        "  if normalize:\n",
        "    magnitude=distance(x1,y1,z1,x2,y2,z2)\n",
        "  else:\n",
        "    magnitude=1.0\n",
        "  return [(x2-x1)/magnitude,(y2-y1)/magnitude,(z2-z1)/magnitude]\n",
        "\n",
        "def dot_product(vec1,vec2):\n",
        "  \"\"\"\n",
        "  Returns the dot product of two vectors\n",
        "  \"\"\"\n",
        "  return vec1[0]*vec2[0] + vec1[1]*vec2[1] + vec1[2]*vec2[2]\n",
        "\n",
        "import math\n",
        "\n",
        "print(\"\\033[1m{:^3} {:^3} {:^3} {: >8s}\\033[0m\".format(\"i\",\"j\",\"k\",\"Angle\"))\n",
        "bond_angles=[]\n",
        "for i in range(natoms):\n",
        "  for j in range(i+1,natoms):\n",
        "    for k in range(j+1,natoms):\n",
        "      if (i!=j) and (j!=k) and (i!=k):\n",
        "       if (distance(atoms[i][1],atoms[i][2],atoms[i][3],atoms[j][1],atoms[j][2],atoms[j][3])<4.0) \\\n",
        "         and distance(atoms[k][1],atoms[k][2],atoms[k][3],atoms[j][1],atoms[j][2],atoms[j][3])<4.0: \n",
        "          ij_vec=get_vector(atoms[i][1],atoms[i][2],atoms[i][3],atoms[j][1],atoms[j][2],atoms[j][3])\n",
        "          jk_vec=get_vector(atoms[k][1],atoms[k][2],atoms[k][3],atoms[j][1],atoms[j][2],atoms[j][3])\n",
        "          angle=math.acos(dot_product(ij_vec,jk_vec))*(180/math.pi)\n",
        "          print(\"{:^3} {:^3} {:^3} {: >8.4f}\".format(i,j,k,angle))\n",
        "          bond_angles.append([i,j,k,angle])"
      ],
      "execution_count": null,
      "outputs": [
        {
          "output_type": "stream",
          "text": [
            "\u001b[1m i   j   k     Angle\u001b[0m\n",
            " 0   1   2  124.2683\n",
            " 0   1   3  115.4793\n",
            " 0   4   5   35.1095\n",
            " 0   4   6   35.1095\n",
            " 0   5   6   36.3737\n",
            " 1   2   3   28.3774\n",
            " 4   5   6   60.4845\n"
          ],
          "name": "stdout"
        }
      ]
    },
    {
      "cell_type": "markdown",
      "metadata": {
        "id": "tX9xyyDpBiWP",
        "colab_type": "text"
      },
      "source": [
        "##Part 4: Out of Plane Angles\n",
        "We need to build in a cross prodcut here, but that is no worry"
      ]
    },
    {
      "cell_type": "code",
      "metadata": {
        "id": "Ct4TFYA_LXjc",
        "colab_type": "code",
        "colab": {
          "base_uri": "https://localhost:8080/",
          "height": 442
        },
        "outputId": "b16d86fc-0d60-4284-d4bf-8ecf624c57de"
      },
      "source": [
        "#Helper Functions\n",
        "\n",
        "def cross_product(vec1,vec2):\n",
        "  \"\"\"\n",
        "  Returns a vector that is the cross product of two vectors\n",
        "  \"\"\"\n",
        "  return [vec1[1]*vec2[2]-vec1[2]*vec2[1],-vec1[0]*vec2[2]+vec1[2]*vec2[0],vec1[0]*vec2[1]-vec1[1]*vec2[0]]\n",
        "\n",
        "import math\n",
        "\n",
        "print(\"\\033[1m{:^3s} {:^3s} {:^3s} {:^3s} {: >8s}\\033[0m\".format(\"i\",\"j\",\"k\",\"l\",\"Angle\"))\n",
        "out_of_plane_angles=[]\n",
        "for i in range(natoms):\n",
        "  for j in range(natoms):\n",
        "    for k in range(natoms):\n",
        "      for l in range(j+1,natoms):\n",
        "        if (i!=j)and (j!=k) and (k!=l) and (i!=k) and (i!=l) and (j!=l):\n",
        "          if (distance(atoms[j][1],atoms[j][2],atoms[j][3],atoms[k][1],atoms[k][2],atoms[k][3])<4.0) and\\\n",
        "             (distance(atoms[l][1],atoms[l][2],atoms[l][3],atoms[k][1],atoms[k][2],atoms[k][3])<4.0) and \\\n",
        "             (distance(atoms[k][1],atoms[k][2],atoms[k][3],atoms[i][1],atoms[i][2],atoms[i][3])<4.0):\n",
        "            #Get two vectors to do a cross product\n",
        "            kj_vec=get_vector(atoms[j][1],atoms[j][2],atoms[j][3],atoms[k][1],atoms[k][2],atoms[k][3])\n",
        "            kl_vec=get_vector(atoms[l][1],atoms[l][2],atoms[l][3],atoms[k][1],atoms[k][2],atoms[k][3])\n",
        "            angle=math.sin(math.acos(dot_product(kl_vec,kj_vec)))\n",
        "            cross_part=cross_product(kj_vec,kl_vec)\n",
        "            ki_vec=get_vector(atoms[k][1],atoms[k][2],atoms[k][3],atoms[i][1],atoms[i][2],atoms[i][3])\n",
        "            oopa=math.asin(dot_product(cross_part,ki_vec)/angle)*(180./math.pi)\n",
        "            print(\"{:^3d} {:^3d} {:^3d} {:^3d} {: >8.4f}\".format(i,j,k,l,oopa))\n",
        "            out_of_plane_angles.append([i,j,k,l,oopa])\n"
      ],
      "execution_count": null,
      "outputs": [
        {
          "output_type": "stream",
          "text": [
            "\u001b[1m i   j   k   l     Angle\u001b[0m\n",
            " 0   2   1   3    0.0000\n",
            " 0   4   5   6   19.8505\n",
            " 0   4   6   5  -19.8505\n",
            " 0   5   4   6  -19.9397\n",
            " 1   4   0   5  -53.6788\n",
            " 1   4   0   6   53.6788\n",
            " 1   5   0   6  -54.9771\n",
            " 2   0   1   3    0.0000\n",
            " 3   0   1   2    0.0000\n",
            " 4   0   5   6  -29.8857\n",
            " 4   0   6   5   29.8857\n",
            " 4   1   0   5   53.6515\n",
            " 4   1   0   6  -53.6515\n",
            " 4   5   0   6   54.8700\n",
            " 5   0   4   6   30.5590\n",
            " 5   0   6   4  -31.0643\n",
            " 5   1   0   4  -53.6263\n",
            " 5   1   0   6   56.2771\n",
            " 5   4   0   6  -56.1946\n",
            " 6   0   4   5  -30.5590\n",
            " 6   0   5   4   31.0643\n",
            " 6   1   0   4   53.6263\n",
            " 6   1   0   5  -56.2771\n",
            " 6   4   0   5   56.1946\n"
          ],
          "name": "stdout"
        }
      ]
    },
    {
      "cell_type": "markdown",
      "metadata": {
        "id": "UuL8u6pjoaTr",
        "colab_type": "text"
      },
      "source": [
        "##Part 5: Torsional Angles\n"
      ]
    },
    {
      "cell_type": "code",
      "metadata": {
        "id": "rHnAK3JxpIqU",
        "colab_type": "code",
        "colab": {
          "base_uri": "https://localhost:8080/",
          "height": 68
        },
        "outputId": "1dc602fb-365c-4be9-f269-a1892d9c86cc"
      },
      "source": [
        "import math\n",
        "print(\"\\033[1m{:^3s} {:^3s} {:^3s} {:^3s} {: >8s}\\033[0m\".format(\"i\",\"j\",\"k\",\"l\",\"Angle\"))\n",
        "\n",
        "torsion_dihedral=[]\n",
        "for i in range(natoms):\n",
        "  for j in range(i+1,natoms):\n",
        "    for k in range(j+1,natoms):\n",
        "      for l in range(k+1,natoms):\n",
        "        if (i!=j)and (j!=k) and (k!=l) and (i!=k) and (i!=l) and (j!=l):\n",
        "          if (distance(atoms[i][1],atoms[i][2],atoms[i][3],atoms[j][1],atoms[j][2],atoms[j][3])<4.0) and\\\n",
        "             (distance(atoms[j][1],atoms[j][2],atoms[j][3],atoms[k][1],atoms[k][2],atoms[k][3])<4.0) and \\\n",
        "             (distance(atoms[k][1],atoms[k][2],atoms[k][3],atoms[l][1],atoms[l][2],atoms[l][3])<4.0):\n",
        "             ij_vec=get_vector(atoms[i][1],atoms[i][2],atoms[i][3],atoms[j][1],atoms[j][2],atoms[j][3])\n",
        "             jk_vec=get_vector(atoms[k][1],atoms[k][2],atoms[k][3],atoms[j][1],atoms[j][2],atoms[j][3])\n",
        "             kj_vec=get_vector(atoms[j][1],atoms[j][2],atoms[j][3],atoms[k][1],atoms[k][2],atoms[k][3])\n",
        "             kl_vec=get_vector(atoms[l][1],atoms[l][2],atoms[l][3],atoms[k][1],atoms[k][2],atoms[k][3])\n",
        "             term1=cross_product(ij_vec,jk_vec)\n",
        "             term2=cross_product(kj_vec,kl_vec)\n",
        "             bottom1=math.sin(math.acos(dot_product(ij_vec,jk_vec)))\n",
        "             bottom2=math.sin(math.acos(dot_product(kj_vec,kl_vec)))\n",
        "             acosterm=dot_product(term1,term2)/(bottom1*bottom2)\n",
        "             if (acosterm>1.0):\n",
        "               acosterm=1.0\n",
        "             elif (acosterm<-1.0):\n",
        "               acosterm=-1.0\n",
        "             tau=math.acos(acosterm)*(180/math.pi)\n",
        "             print(\"{:^3d} {:^3d} {:^3d} {:^3d} {: >8.4f}\".format(i,j,k,l,tau))"
      ],
      "execution_count": null,
      "outputs": [
        {
          "output_type": "stream",
          "text": [
            "\u001b[1m i   j   k   l     Angle\u001b[0m\n",
            " 0   1   2   3  180.0000\n",
            " 0   4   5   6   36.3668\n"
          ],
          "name": "stdout"
        }
      ]
    },
    {
      "cell_type": "markdown",
      "metadata": {
        "id": "0PF65zWQdXEk",
        "colab_type": "text"
      },
      "source": [
        "##Part \\#5: Center of Mass\n",
        "As of right now I'm hacking in the masses, but then again the whole thing is more or less a hack job right now.  Eventually it should be cleaned up and turned into proper data storage.\n",
        "\n",
        "Be careful here, we're going to update the coordinates to the COM frame, so if you want to run this twice, you'll need to re-establish the original coordinates.\n"
      ]
    },
    {
      "cell_type": "code",
      "metadata": {
        "id": "8mIvN3bmfL4i",
        "colab_type": "code",
        "colab": {
          "base_uri": "https://localhost:8080/",
          "height": 34
        },
        "outputId": "1f946460-1f49-4eca-cff6-b0dd3b376fc9"
      },
      "source": [
        "z_to_m={'1':1.,'6':12.,'7':14.,'8':16.}\n",
        "xcom,ycom,zcom=0.0,0.0,0.0\n",
        "totalmass=0.0\n",
        "for i in range(natoms):\n",
        "  mass=z_to_m[str(int(atoms[i][0]))]\n",
        "  totalmass+=mass\n",
        "  xcom+=mass*atoms[i][1]\n",
        "  ycom+=mass*atoms[i][2]\n",
        "  zcom+=mass*atoms[i][3]\n",
        "\n",
        "xcom/=totalmass\n",
        "ycom/=totalmass\n",
        "zcom/=totalmass\n",
        "\n",
        "print(xcom,ycom,zcom)\n",
        "\n",
        "import copy\n",
        "com_geom=copy.deepcopy(atoms)\n",
        "\n",
        "for i in range(natoms):\n",
        "  com_geom[i][1]-=xcom\n",
        "  com_geom[i][2]-=ycom\n",
        "  com_geom[i][3]-=zcom\n",
        "\n"
      ],
      "execution_count": null,
      "outputs": [
        {
          "output_type": "stream",
          "text": [
            "0.6459026583098636 0.0 2.3182057901600683\n"
          ],
          "name": "stdout"
        }
      ]
    },
    {
      "cell_type": "markdown",
      "metadata": {
        "id": "BIUw08wMsdMu",
        "colab_type": "text"
      },
      "source": [
        "##Part \\#6: Moments of Inertia\n",
        "These will be straight forward using the COM coords.  In the principal coordinate frame, the inertial tensor is diagonal, so calculating it this way is preferred.  \n",
        "\n",
        "Working not in the principal axis frame, this is not true, and we'll do it this way as well for practice diagonalizing a small matrix.\n",
        "\n",
        "I was being silly above.  For highly symmetric molecules, this is true, but this molecule is not symmetric enough.  We need to be in the principal axis system to get the internal moments of inertia as opposed to rotating about some other coordinate system.  "
      ]
    },
    {
      "cell_type": "code",
      "metadata": {
        "id": "3EMoXHD4t8AY",
        "colab_type": "code",
        "colab": {
          "base_uri": "https://localhost:8080/",
          "height": 68
        },
        "outputId": "b38dc27f-5cfa-4973-9fb1-ceeecaf30fea"
      },
      "source": [
        "Ixx,Iyy,Izz=0.0,0.0,0.0\n",
        "Ixy,Iyz,Ixz=0.0,0.0,0.0\n",
        "for i in range(natoms):\n",
        "  mass=z_to_m[str(int(atoms[i][0]))]\n",
        "  \n",
        "  Ixx+=mass*(com_geom[i][2]**2+com_geom[i][3]**2)\n",
        "  Iyy+=mass*(com_geom[i][1]**2+com_geom[i][3]**2)\n",
        "  Izz+=mass*(com_geom[i][1]**2+com_geom[i][2]**2)\n",
        "\n",
        "  Ixy-=mass*(com_geom[i][1]*com_geom[i][2])\n",
        "  Iyz-=mass*(com_geom[i][2]*com_geom[i][3])\n",
        "  Ixz-=mass*(com_geom[i][1]*com_geom[i][3])\n",
        "\n",
        "import numpy as np\n",
        "inertmat=np.diag((Ixx,Iyy,Izz))\n",
        "inertmat[1][0]=Ixy\n",
        "inertmat[0][1]=Ixy\n",
        "inertmat[0][2]=Ixz\n",
        "inertmat[2][0]=Ixz\n",
        "inertmat[1][2]=Iyz\n",
        "inertmat[2][1]=Iyz\n",
        "\n",
        "from numpy import linalg as LA\n",
        "mat,eigvecs=LA.eig(inertmat)\n",
        "mat.sort()\n",
        "print(\"\\033[1m{:^6s} {:^6s} {:^6s}\\033[0m\".format(\"Ixx\",\"Iyy\",\"Izz\"))\n",
        "print(\"{:^6.2f} {:^6.2f} {:^6.2f}\\tamu*bohr*bohr\".format(mat[0],mat[1],mat[2]))\n",
        "print(\"{:^6.2f} {:^6.2f} {:^6.2f}\\tamu*AA*AA\".format(mat[0]*0.529177*0.529177,mat[1]*0.529177*0.529177,mat[2]*0.529177*0.529177))\n"
      ],
      "execution_count": null,
      "outputs": [
        {
          "output_type": "stream",
          "text": [
            "\u001b[1m Ixx    Iyy    Izz  \u001b[0m\n",
            "31.81  178.40 199.06\tamu*bohr*bohr\n",
            " 8.91  49.96  55.74 \tamu*AA*AA\n"
          ],
          "name": "stdout"
        }
      ]
    },
    {
      "cell_type": "markdown",
      "metadata": {
        "id": "8-mYx3Us0Oja",
        "colab_type": "text"
      },
      "source": [
        "##Part \\#8: "
      ]
    },
    {
      "cell_type": "code",
      "metadata": {
        "id": "s_naJAIkyoVe",
        "colab_type": "code",
        "colab": {
          "base_uri": "https://localhost:8080/",
          "height": 51
        },
        "outputId": "ea69a16a-d564-4b55-f999-7045a16f7b4d"
      },
      "source": [
        "import math\n",
        "\n",
        "A=(6.626e-34*6.022e+26)/(8*math.pi*math.pi*(3*10**10)*mat[0]*(10**-10)*(10**-10))*1.88973*1.88973\n",
        "B=(6.626e-34*6.022e+26)/(8*math.pi*math.pi*(3*10**10)*mat[1]*(10**-10)*(10**-10))*1.88973*1.88973\n",
        "C=(6.626e-34*6.022e+26)/(8*math.pi*math.pi*(3*10**10)*mat[2]*(10**-10)*(10**-10))*1.88973*1.88973\n",
        "print(\"\\033[1m{:^6s} {:^6s} {:^6s}\\033[0m\".format(\"A\",\"B\",\"C\"))\n",
        "print(\"{:^6.3f} {:^6.3f} {:^6.3f}\\tcm-1\".format(A,B,C))"
      ],
      "execution_count": null,
      "outputs": [
        {
          "output_type": "stream",
          "text": [
            "\u001b[1m  A      B      C   \u001b[0m\n",
            "1.891  0.337  0.302 \tcm-1\n"
          ],
          "name": "stdout"
        }
      ]
    }
  ]
}